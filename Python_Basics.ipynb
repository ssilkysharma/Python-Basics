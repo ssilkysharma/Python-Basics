{
  "nbformat": 4,
  "nbformat_minor": 0,
  "metadata": {
    "colab": {
      "provenance": []
    },
    "kernelspec": {
      "name": "python3",
      "display_name": "Python 3"
    },
    "language_info": {
      "name": "python"
    }
  },
  "cells": [
    {
      "cell_type": "markdown",
      "source": [],
      "metadata": {
        "id": "fPZ42045nZqo"
      }
    },
    {
      "cell_type": "markdown",
      "source": [
        "1.\tWhat is Python, and why is it popular?\n",
        "Ans: Python is a high-level, interpreted programming language known for its simplicity and versatility. Created by Guido van Rossum and released in 1991, Python emphasizes readability and developer-friendly syntax, making it an excellent choice for both beginners and experienced programmers. Python's combination of simplicity, versatility, and strong community support has made it one of the most popular programming languages.\n"
      ],
      "metadata": {
        "id": "-Cynw4uUncrG"
      }
    },
    {
      "cell_type": "markdown",
      "source": [
        "2.\tWhat is an interpreter in Python ¬?\n",
        "Ans: Interpreters are the computer program that will convert the source code or an high level language into intermediate code (machine level language). It is also called translator in programming terminology. Interpreters execute each line of statements slowly. This process is called Interpretation.\n"
      ],
      "metadata": {
        "id": "Qt86l0gqni29"
      }
    },
    {
      "cell_type": "markdown",
      "source": [
        "3.\tWhat are pre-defined keywords in Python?\n",
        "Ans:In Python, keywords are reserved words that have predefined meanings and cannot be used as identifiers (variable names, function names, etc.). They are an integral part of the language's syntax and structure.Exmple: True, False, If, Else etc\n"
      ],
      "metadata": {
        "id": "HcmBLwiinjap"
      }
    },
    {
      "cell_type": "markdown",
      "source": [
        "4.\t Can keywords be used as variable names?\n",
        "Ans:No, keywords cannot be used as variable names in programming languages like C, C++, Python, and Java. Keywords have specific, predefined meanings within the language and are used for syntax and structure. Using them as variable names would lead to ambiguity and errors because the compiler/interpreter would not know if you're referring to a variable or a keyword.\n"
      ],
      "metadata": {
        "id": "RL0CtLG7nl3G"
      }
    },
    {
      "cell_type": "markdown",
      "source": [
        "5.\t What is mutability in Python?\n",
        "Ans: Mutability in Python refers to an object's ability to be modified after its creation. If an object is mutable, its state or value can be changed without creating a new object. This means you can alter the object's internal data or attributes directly. Example: List, Dictionary, Sets\n"
      ],
      "metadata": {
        "id": "ijfsJ0nHnoSI"
      }
    },
    {
      "cell_type": "markdown",
      "source": [
        "6.\t Why are lists mutable, but tuples are immutable?\n",
        "Ans:Tuples and lists are the same in every way except two: tuples use parentheses instead of square brackets, and the items in tuples cannot be modified but the items in lists can be modified. We often call lists mutable meaning they can changed and tuples immutable meaning they cannot be changed.\n"
      ],
      "metadata": {
        "id": "KfY4JVvcnrC0"
      }
    },
    {
      "cell_type": "markdown",
      "source": [
        "7.\tWhat is the difference between “==” and “is” operators in Python?\n",
        "Ans: The == and is operators in Python serve different purposes, though both are used for comparisons.\n",
        "== Operator:\n",
        "•\tChecks for value equality.\n",
        "•\tReturns True if the values of two objects are equal, regardless of their identity.\n",
        "•\tIt compares the contents or data held by the objects.\n",
        "•\tIt uses the __eq__() method of the object to determine equality.\n",
        "is Operator:\n",
        "•\tChecks for identity equality.\n",
        "•\tReturns True if two variables refer to the same object in memory.\n",
        "•\tIt verifies if two references point to the same memory location.\n",
        "•\tIt does not compare the actual values of the objects.\n"
      ],
      "metadata": {
        "id": "diO_R4yyns6W"
      }
    },
    {
      "cell_type": "markdown",
      "source": [
        "8.\tWhat are logical operators in Python?\n",
        "Ans: Logical operators are used to combine conditional statements:\n",
        "And operator: Returns True if both statements are true.\n",
        "Or Operator: Returns True if one of the statements is true.\n",
        "Not Operator: Reverse the result, returns False if the result is true.\n"
      ],
      "metadata": {
        "id": "6RJWr5Bpn0bG"
      }
    },
    {
      "cell_type": "markdown",
      "source": [
        "9.\tWhat is type casting in Python?\n",
        "Ans: In Python, type casting (also known as type conversion) refers to the process of converting a variable from one data type to another. This is essential when performing operations that require operands to be of the same type or when you need to ensure data is in a specific format.\n"
      ],
      "metadata": {
        "id": "ccumc-QWn2DV"
      }
    },
    {
      "cell_type": "markdown",
      "source": [
        "10.\t What is the difference between implicit and explicit type casting?\n",
        "Ans: Implicit type casting occurs when Python automatically converts one data type to another without explicit instruction from the programmer. This typically happens when performing operations involving mixed data types, where promoting one data type to another prevents data loss. Explicit type casting involves the programmer manually converting a data type to another using built-in functions like int(), float(), str(), etc. This is necessary when implicit conversion is not possible or when the programmer wants to ensure a specific data type.\n"
      ],
      "metadata": {
        "id": "WIN8edygn5Mb"
      }
    },
    {
      "cell_type": "markdown",
      "source": [
        "11.\t What is the purpose of conditional statements in Python?\n",
        "Ans: Purpose of Conditional statements are:\n",
        "Decision-Making: Conditional statements enable the program to choose between different actions based on conditions. This is fundamental for implementing logic that adapts to varying inputs or states.\n",
        " Control Flow: They dictate the execution path of the program, ensuring that only the relevant code is run under specific circumstances.\n",
        "Error Handling: By checking conditions, you can anticipate potential errors or undesirable states and handle them appropriately, enhancing the robustness of your program.\n",
        "User Input Validation: Conditional statements are commonly used to verify that user inputs meet expected criteria before proceeding with further operations.\n"
      ],
      "metadata": {
        "id": "TdmJcN1rn7nI"
      }
    },
    {
      "cell_type": "markdown",
      "source": [
        "12.\t How does the elif statement work?\n",
        "Ans: The elif (short for \"else if\") statement is used to check multiple conditions sequentially, allowing you to execute different blocks of code based on various conditions. It provides a way to chain multiple conditions together, making your code more readable and efficient.\n",
        "Sequential Evaluation: Python evaluates the conditions in the order they appear. Once a condition evaluates to True, its corresponding block of code is executed, and the rest of the elif and else blocks are skipped.\n",
        "Multiple elif Clauses: You can have multiple elif clauses to check for various conditions. Each elif is evaluated only if all preceding conditions (including the initial if) are False.\n",
        "Optional else Clause: An else clause can be added at the end to execute a block of code if none of the if or elif conditions are True\n"
      ],
      "metadata": {
        "id": "G8UstCyJn_V2"
      }
    },
    {
      "cell_type": "markdown",
      "source": [],
      "metadata": {
        "id": "zS8Z8fvCnwPN"
      }
    },
    {
      "cell_type": "markdown",
      "source": [
        "13.\t What is the difference between for and while loops?\n",
        "Ans: For Loops: Used when the number of iterations is known beforehand or when iterating over a sequence (like a list, tuple, or string).\n",
        "Iterating over a known range of numbers.\n",
        "Processing items in a collection (e.g., list, tuple)\n",
        "Iterating over characters in a string.\n",
        "While Loops: Used when the number of iterations is not known in advance and depends on a condition that is evaluated before each iteration.\n",
        "Repeating an action until a condition changes (e.g., waiting for user input).\n",
        "Reading data until the end of a file is reached.\n",
        "Performing an action until a certain state is achieved.\n"
      ],
      "metadata": {
        "id": "Cr-xMkp9oB78"
      }
    },
    {
      "cell_type": "markdown",
      "source": [
        "14.\t Describe a scenario where a while loop is more suitable than a for loop.\n",
        "Ans:  A while loop is particularly suitable when the number of iterations is unknown in advance and depends on a condition that is evaluated during each iteration. This makes it ideal for scenarios where you need to repeat a block of code until a certain condition is met, and you cannot predetermine how many iterations will be necessary.\n",
        "Scenario: Continuously Prompting User Input Until Valid\n",
        "Imagine you're developing a program that requires the user to input a valid email address. Since you cannot predict how many attempts the user will need to provide a valid email, a while loop is appropriate.\n"
      ],
      "metadata": {
        "id": "HDmJ6yD9oE3s"
      }
    },
    {
      "cell_type": "code",
      "source": [
        "import re\n",
        "\n",
        "def get_valid_email():\n",
        "    while True:\n",
        "        email = input(\"Please enter your email address: \")\n",
        "        if re.match(r\"[^@]+@[^@]+\\.[^@]+\", email):\n",
        "            print(\"Valid email address entered.\")\n",
        "            break\n",
        "        else:\n",
        "            print(\"Invalid email address. Please try again.\")\n"
      ],
      "metadata": {
        "id": "xPyBlooWoHyB"
      },
      "execution_count": 2,
      "outputs": []
    },
    {
      "cell_type": "markdown",
      "source": [
        "1. Write a Python program to print \"Hello, World!"
      ],
      "metadata": {
        "id": "GSi7-b-woMEb"
      }
    },
    {
      "cell_type": "code",
      "source": [
        "print(\"Hello World!\")"
      ],
      "metadata": {
        "colab": {
          "base_uri": "https://localhost:8080/"
        },
        "id": "paD6FPWsoPrl",
        "outputId": "ac01cc13-fc2d-4bca-9de5-68b82250a361"
      },
      "execution_count": 3,
      "outputs": [
        {
          "output_type": "stream",
          "name": "stdout",
          "text": [
            "Hello World!\n"
          ]
        }
      ]
    },
    {
      "cell_type": "markdown",
      "source": [
        "2. Write a Python program that displays your name and age"
      ],
      "metadata": {
        "id": "QsWEdT23oTYY"
      }
    },
    {
      "cell_type": "code",
      "source": [
        "Name = input(\"Please enter your name: \" )\n",
        "Age = int(input(\"Please enter your age: \"))\n",
        "print(f\"Hello, {Name}! You are {Age} years old.\")\n"
      ],
      "metadata": {
        "colab": {
          "base_uri": "https://localhost:8080/"
        },
        "id": "Fgkb5vQEoViW",
        "outputId": "cf312b29-ed7a-4cf3-a130-97fe096dd356"
      },
      "execution_count": 4,
      "outputs": [
        {
          "output_type": "stream",
          "name": "stdout",
          "text": [
            "Please enter your name: Silki Sharma\n",
            "Please enter your age: 24\n",
            "Hello, Silki Sharma! You are 24 years old.\n"
          ]
        }
      ]
    },
    {
      "cell_type": "markdown",
      "source": [
        "3.Write code to print all the pre-defined keywords in Python using the keyword library?"
      ],
      "metadata": {
        "id": "2_JeJEwZobcS"
      }
    },
    {
      "cell_type": "code",
      "source": [
        " import keyword\n",
        "print(\"Python Keywords are: \")\n",
        "print(keyword.kwlist)\n"
      ],
      "metadata": {
        "colab": {
          "base_uri": "https://localhost:8080/"
        },
        "id": "q3ilHwnYoeK1",
        "outputId": "5c8eaad9-b75f-43b8-f490-1cca328f7d00"
      },
      "execution_count": 5,
      "outputs": [
        {
          "output_type": "stream",
          "name": "stdout",
          "text": [
            "Python Keywords are: \n",
            "['False', 'None', 'True', 'and', 'as', 'assert', 'async', 'await', 'break', 'class', 'continue', 'def', 'del', 'elif', 'else', 'except', 'finally', 'for', 'from', 'global', 'if', 'import', 'in', 'is', 'lambda', 'nonlocal', 'not', 'or', 'pass', 'raise', 'return', 'try', 'while', 'with', 'yield']\n"
          ]
        }
      ]
    },
    {
      "cell_type": "markdown",
      "source": [
        "4.  Write a program that checks if a given word is a Python keyword."
      ],
      "metadata": {
        "id": "PIl7E5bHog99"
      }
    },
    {
      "cell_type": "code",
      "source": [
        "import keyword\n",
        "word = input(\"Enter a word to check if it is a python keyword\")\n",
        "if keyword.iskeyword(word):\n",
        "    print(f\"'{word}' is a Python keyword.\")\n",
        "else:\n",
        "    print(f\"'{word}' is not a Python keyword.\")\n"
      ],
      "metadata": {
        "colab": {
          "base_uri": "https://localhost:8080/"
        },
        "id": "-u-uwLr3oiwD",
        "outputId": "ae000dda-94cd-4e56-80fc-a60087a01440"
      },
      "execution_count": 8,
      "outputs": [
        {
          "output_type": "stream",
          "name": "stdout",
          "text": [
            "Enter a word to check if it is a python keyworddef\n",
            "'def' is a Python keyword.\n"
          ]
        }
      ]
    },
    {
      "cell_type": "markdown",
      "source": [
        "5.Create a list and tuple in Python, and demonstrate how attempting to change an element works differently for each."
      ],
      "metadata": {
        "id": "gf8rGsyDoz46"
      }
    },
    {
      "cell_type": "code",
      "source": [
        "my_list = [10, 20, 30]\n",
        "my_tuple = (10, 20, 30)\n",
        "\n",
        "# Modifying the list\n",
        "my_list[1] = 99\n",
        "print(\"Modified list:\", my_list)\n",
        "\n",
        "# Attempting to modify the tuple\n",
        "try:\n",
        "    my_tuple[1] = 99\n",
        "except TypeError as e:\n",
        "    print(\"Error:\", e)\n"
      ],
      "metadata": {
        "colab": {
          "base_uri": "https://localhost:8080/"
        },
        "id": "MaUR6oBco3Yi",
        "outputId": "f6806e59-2aeb-4650-f7a6-694a3361febe"
      },
      "execution_count": 9,
      "outputs": [
        {
          "output_type": "stream",
          "name": "stdout",
          "text": [
            "Modified list: [10, 99, 30]\n",
            "Error: 'tuple' object does not support item assignment\n"
          ]
        }
      ]
    },
    {
      "cell_type": "markdown",
      "source": [
        "6.Write a function to demonstrate the behavior of mutable and immutable arguments.ans:Immutable objects (like int, float, str, tuple) do not change inside a function.\n",
        "Mutable objects (like list, dict, set) can be changed inside a function.\n"
      ],
      "metadata": {
        "id": "bmnJYE1To7NN"
      }
    },
    {
      "cell_type": "code",
      "source": [
        "def modify_arguments(num, text, my_list):\n",
        "    num += 1              # Attempt to modify an integer (immutable)\n",
        "    text += \" world\"      # Attempt to modify a string (immutable)\n",
        "    my_list.append(4)     # Modify a list (mutable)\n",
        "\n",
        "    print(\"\\nInside function:\")\n",
        "    print(\"num:\", num)\n",
        "    print(\"text:\", text)\n",
        "    print(\"my_list:\", my_list)\n",
        "\n",
        "# Outside variables\n",
        "a = 10\n",
        "b = \"hello\"\n",
        "c = [1, 2, 3]\n",
        "\n",
        "print(\"Before function call:\")\n",
        "print(\"a:\", a)\n",
        "print(\"b:\", b)\n",
        "print(\"c:\", c)\n",
        "\n",
        "modify_arguments(a, b, c)\n",
        "\n",
        "print(\"\\nAfter function call:\")\n",
        "print(\"a:\", a)    # unchanged\n",
        "print(\"b:\", b)    # unchanged\n",
        "print(\"c:\", c)    # changed\n"
      ],
      "metadata": {
        "colab": {
          "base_uri": "https://localhost:8080/"
        },
        "id": "6J4qI3Rro_cz",
        "outputId": "2de9df80-039f-47d5-fb82-5c3938f3cc8a"
      },
      "execution_count": 10,
      "outputs": [
        {
          "output_type": "stream",
          "name": "stdout",
          "text": [
            "Before function call:\n",
            "a: 10\n",
            "b: hello\n",
            "c: [1, 2, 3]\n",
            "\n",
            "Inside function:\n",
            "num: 11\n",
            "text: hello world\n",
            "my_list: [1, 2, 3, 4]\n",
            "\n",
            "After function call:\n",
            "a: 10\n",
            "b: hello\n",
            "c: [1, 2, 3, 4]\n"
          ]
        }
      ]
    },
    {
      "cell_type": "markdown",
      "source": [
        "7.Write a program that performs basic arithmetic operations on two user-input numbers"
      ],
      "metadata": {
        "id": "UYMjQVJjpLUL"
      }
    },
    {
      "cell_type": "code",
      "source": [
        "# Get user input\n",
        "num1 = float(input(\"Enter the first number: \"))\n",
        "num2 = float(input(\"Enter the second number: \"))\n",
        "\n",
        "# Perform arithmetic operations\n",
        "addition = num1 + num2\n",
        "subtraction = num1 - num2\n",
        "multiplication = num1 * num2\n",
        "\n",
        "# Handle division and modulus with zero check\n",
        "if num2 != 0:\n",
        "    division = num1 / num2\n",
        "    modulus = num1 % num2\n",
        "else:\n",
        "    division = \"Undefined (cannot divide by zero)\"\n",
        "    modulus = \"Undefined (cannot take modulus by zero)\"\n",
        "\n",
        "# Display results\n",
        "print(\"\\nResults:\")\n",
        "print(f\"Addition:       {num1} + {num2} = {addition}\")\n",
        "print(f\"Subtraction:    {num1} - {num2} = {subtraction}\")\n",
        "print(f\"Multiplication: {num1} * {num2} = {multiplication}\")\n",
        "print(f\"Division:       {num1} / {num2} = {division}\")\n",
        "print(f\"Modulus:        {num1} % {num2} = {modulus}\")\n"
      ],
      "metadata": {
        "colab": {
          "base_uri": "https://localhost:8080/"
        },
        "id": "CDAEyuxopQg9",
        "outputId": "33548f8f-fb47-472f-b3b1-3cb18f5cce78"
      },
      "execution_count": 11,
      "outputs": [
        {
          "output_type": "stream",
          "name": "stdout",
          "text": [
            "Enter the first number: 23\n",
            "Enter the second number: 67\n",
            "\n",
            "Results:\n",
            "Addition:       23.0 + 67.0 = 90.0\n",
            "Subtraction:    23.0 - 67.0 = -44.0\n",
            "Multiplication: 23.0 * 67.0 = 1541.0\n",
            "Division:       23.0 / 67.0 = 0.34328358208955223\n",
            "Modulus:        23.0 % 67.0 = 23.0\n"
          ]
        }
      ]
    },
    {
      "cell_type": "markdown",
      "source": [
        "8.Write a program to demonstrate the use of logical operators."
      ],
      "metadata": {
        "id": "ZbfnHc0wpYxA"
      }
    },
    {
      "cell_type": "code",
      "source": [
        "# Get user input\n",
        "num1 = int(input(\"Enter the first number: \"))\n",
        "num2 = float(input(\"Enter the second number: \"))\n",
        "\n",
        "# Perform arithmetic operations\n",
        "addition = num1 + num2\n",
        "subtraction = num1 - num2\n",
        "multiplication = num1 * num2\n",
        "print(num1 + num2)\n",
        "print(num1 - num2)\n",
        "print(num1 * num2)\n"
      ],
      "metadata": {
        "colab": {
          "base_uri": "https://localhost:8080/"
        },
        "id": "6koYrlnfpbtF",
        "outputId": "ebd73e39-0c07-4176-e44c-def4972551ae"
      },
      "execution_count": 12,
      "outputs": [
        {
          "output_type": "stream",
          "name": "stdout",
          "text": [
            "Enter the first number: 34\n",
            "Enter the second number: 54\n",
            "88.0\n",
            "-20.0\n",
            "1836.0\n"
          ]
        }
      ]
    },
    {
      "cell_type": "markdown",
      "source": [
        "9.Write a Python program to convert user input from string to integer, float, and boolean types."
      ],
      "metadata": {
        "id": "qKQqYIkypgp1"
      }
    },
    {
      "cell_type": "code",
      "source": [
        "# Get input from user\n",
        "user_input = input(\"Enter a value: \")\n",
        "\n",
        "# Convert to integer\n",
        "try:\n",
        "    int_value = int(user_input)\n",
        "    print(f\"Integer conversion: {int_value}\")\n",
        "except ValueError:\n",
        "    print(\"Integer conversion: Failed (input is not a valid integer)\")\n",
        "\n",
        "# Convert to float\n",
        "try:\n",
        "    float_value = float(user_input)\n",
        "    print(f\"Float conversion: {float_value}\")\n",
        "except ValueError:\n",
        "    print(\"Float conversion: Failed (input is not a valid float)\")\n",
        "\n",
        "# Convert to boolean\n",
        "# In Python, the following are considered False: '', '0', 'false', 'False', 'no', 'off'\n",
        "false_values = ['0', 'false', 'False', 'no', 'off', '']\n",
        "bool_value = not user_input.strip().lower() in false_values\n",
        "print(f\"Boolean conversion: {bool_value}\")\n"
      ],
      "metadata": {
        "colab": {
          "base_uri": "https://localhost:8080/"
        },
        "id": "XWTZeGM5pogP",
        "outputId": "88931d62-85a8-4930-be2a-b20692b82353"
      },
      "execution_count": 14,
      "outputs": [
        {
          "output_type": "stream",
          "name": "stdout",
          "text": [
            "Enter a value: 56\n",
            "Integer conversion: 56\n",
            "Float conversion: 56.0\n",
            "Boolean conversion: True\n"
          ]
        }
      ]
    },
    {
      "cell_type": "markdown",
      "source": [
        "10.Write code to demonstrate type casting with list elements."
      ],
      "metadata": {
        "id": "kGwMMnPepuQJ"
      }
    },
    {
      "cell_type": "code",
      "source": [
        "str_list = [\"42\", \"3.14\", \"0\", \"-7\", \"True\", \"False\", \"hello\"]\n",
        "\n",
        "# Lists to hold converted values\n",
        "int_list = []\n",
        "float_list = []\n",
        "bool_list = []\n",
        "\n",
        "# Define what should be considered as False for boolean conversion\n",
        "false_values = ['0', 'false', 'False', '', 'no', 'off']\n",
        "\n",
        "# Loop through each item and attempt type casting\n",
        "for item in str_list:\n",
        "    # Integer casting\n",
        "    try:\n",
        "        int_list.append(int(float(item)))  # Handles values like \"3.14\"\n",
        "    except ValueError:\n",
        "        int_list.append(None)  # Mark invalid conversion\n",
        "\n",
        "    # Float casting\n",
        "    try:\n",
        "        float_list.append(float(item))\n",
        "    except ValueError:\n",
        "        float_list.append(None)\n",
        "\n",
        "    # Boolean casting\n",
        "    bool_value = not item.strip().lower() in false_values\n",
        "    bool_list.append(bool_value)\n",
        "\n",
        "# Display the results\n",
        "print(\"Original list:       \", str_list)\n",
        "print(\"Integer cast list:   \", int_list)\n",
        "print(\"Float cast list:     \", float_list)\n",
        "print(\"Boolean cast list:   \", bool_list)\n"
      ],
      "metadata": {
        "colab": {
          "base_uri": "https://localhost:8080/"
        },
        "id": "dfi1hUTzpynp",
        "outputId": "031bbcc2-233c-4c51-a220-2820cde96f9f"
      },
      "execution_count": 15,
      "outputs": [
        {
          "output_type": "stream",
          "name": "stdout",
          "text": [
            "Original list:        ['42', '3.14', '0', '-7', 'True', 'False', 'hello']\n",
            "Integer cast list:    [42, 3, 0, -7, None, None, None]\n",
            "Float cast list:      [42.0, 3.14, 0.0, -7.0, None, None, None]\n",
            "Boolean cast list:    [True, True, False, True, True, False, True]\n"
          ]
        }
      ]
    },
    {
      "cell_type": "markdown",
      "source": [
        "11.Write a program that checks if a number is positive, negative, or zero"
      ],
      "metadata": {
        "id": "v8vrch3Ep4Fz"
      }
    },
    {
      "cell_type": "code",
      "source": [
        "# Get input from the user\n",
        "num = float(input(\"Enter a number: \"))\n",
        "\n",
        "# Check the sign of the number\n",
        "if num > 0:\n",
        "    print(\"The number is positive.\")\n",
        "elif num < 0:\n",
        "    print(\"The number is negative.\")\n",
        "else:\n",
        "    print(\"The number is zero.\")\n"
      ],
      "metadata": {
        "colab": {
          "base_uri": "https://localhost:8080/"
        },
        "id": "a67ZDRnpqBB-",
        "outputId": "da765030-8f26-46eb-aeb9-1c9fb189c80b"
      },
      "execution_count": 16,
      "outputs": [
        {
          "output_type": "stream",
          "name": "stdout",
          "text": [
            "Enter a number: 67\n",
            "The number is positive.\n"
          ]
        }
      ]
    },
    {
      "cell_type": "markdown",
      "source": [
        "12.Write a for loop to print numbers from 1 to 10."
      ],
      "metadata": {
        "id": "9_iXYBCbqFDi"
      }
    },
    {
      "cell_type": "code",
      "source": [
        "for i in range(11):\n",
        "   print(i)\n"
      ],
      "metadata": {
        "colab": {
          "base_uri": "https://localhost:8080/"
        },
        "id": "c_q58JFPqIFZ",
        "outputId": "c8320751-b70c-402d-c19c-dea0f7aae09b"
      },
      "execution_count": 17,
      "outputs": [
        {
          "output_type": "stream",
          "name": "stdout",
          "text": [
            "0\n",
            "1\n",
            "2\n",
            "3\n",
            "4\n",
            "5\n",
            "6\n",
            "7\n",
            "8\n",
            "9\n",
            "10\n"
          ]
        }
      ]
    },
    {
      "cell_type": "markdown",
      "source": [
        "13.Write a Python program to find the sum of all even numbers between 1 and 50."
      ],
      "metadata": {
        "id": "LLP9HXNVqKx0"
      }
    },
    {
      "cell_type": "code",
      "source": [
        "total_sum = sum(range(2, 51, 2))\n",
        "print(\"Sum of all even numbers between 1 and 50 is:\", total_sum)\n"
      ],
      "metadata": {
        "colab": {
          "base_uri": "https://localhost:8080/"
        },
        "id": "fzqY4jB0qlz4",
        "outputId": "b51e8420-ee93-47d6-9a10-a104bf5e9e05"
      },
      "execution_count": 24,
      "outputs": [
        {
          "output_type": "stream",
          "name": "stdout",
          "text": [
            "Sum of all even numbers between 1 and 50 is: 650\n"
          ]
        }
      ]
    },
    {
      "cell_type": "markdown",
      "source": [
        "14.\tWrite a program to reverse a string using a while loop."
      ],
      "metadata": {
        "id": "7Xx9a3w6qn8p"
      }
    },
    {
      "cell_type": "code",
      "source": [
        "my_String = \"Flowers are beautiful\"\n",
        "reversed_String = \"\"\n",
        "index = len(my_String) - 1\n",
        "\n",
        "while index >= 0:\n",
        "  reversed_String += my_String[index]\n",
        "  index -= 1\n",
        "\n",
        "print(reversed_String)\n"
      ],
      "metadata": {
        "colab": {
          "base_uri": "https://localhost:8080/"
        },
        "id": "UloSslRVqqkA",
        "outputId": "8c0ff167-a3ef-4e88-fa4f-89dc4b785011"
      },
      "execution_count": 25,
      "outputs": [
        {
          "output_type": "stream",
          "name": "stdout",
          "text": [
            "lufituaeb era srewolF\n"
          ]
        }
      ]
    },
    {
      "cell_type": "markdown",
      "source": [
        "15.Write a Python program to calculate the factorial of a number provided by the user using a while loop"
      ],
      "metadata": {
        "id": "CNCDAVJpqs-s"
      }
    },
    {
      "cell_type": "code",
      "source": [
        "# Get user input\n",
        "num = int(input(\"Enter a non-negative integer: \"))\n",
        "\n",
        "# Initialize factorial result and counter\n",
        "factorial = 1\n",
        "counter = num\n",
        "\n",
        "# Calculate factorial using while loop\n",
        "while counter > 1:\n",
        "    factorial *= counter\n",
        "    counter -= 1\n",
        "\n",
        "print(f\"Factorial of {num} is {factorial}\")\n",
        "\n"
      ],
      "metadata": {
        "colab": {
          "base_uri": "https://localhost:8080/"
        },
        "id": "ZKV-gkaMqwdD",
        "outputId": "76d63ccd-bf4e-47ae-92ff-a68c38392218"
      },
      "execution_count": 27,
      "outputs": [
        {
          "output_type": "stream",
          "name": "stdout",
          "text": [
            "Enter a non-negative integer: 56\n",
            "Factorial of 56 is 710998587804863451854045647463724949736497978881168458687447040000000000000\n"
          ]
        }
      ]
    }
  ]
}